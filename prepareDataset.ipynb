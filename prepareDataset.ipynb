{
 "cells": [
  {
   "cell_type": "code",
   "execution_count": 2,
   "id": "e4f05191-1ff0-4d54-8b50-4e82c2e84177",
   "metadata": {},
   "outputs": [],
   "source": [
    "import pandas as pd\n",
    "import yaml\n",
    "import json\n",
    "import requests"
   ]
  },
  {
   "cell_type": "markdown",
   "id": "77b364fe-4689-46e1-8181-cbd88cb27e91",
   "metadata": {},
   "source": [
    "Processing Healcare data"
   ]
  },
  {
   "cell_type": "code",
   "execution_count": 3,
   "id": "15a1dd1c-c81f-4991-bbee-d8979265910c",
   "metadata": {},
   "outputs": [
    {
     "data": {
      "text/html": [
       "<div>\n",
       "<style scoped>\n",
       "    .dataframe tbody tr th:only-of-type {\n",
       "        vertical-align: middle;\n",
       "    }\n",
       "\n",
       "    .dataframe tbody tr th {\n",
       "        vertical-align: top;\n",
       "    }\n",
       "\n",
       "    .dataframe thead th {\n",
       "        text-align: right;\n",
       "    }\n",
       "</style>\n",
       "<table border=\"1\" class=\"dataframe\">\n",
       "  <thead>\n",
       "    <tr style=\"text-align: right;\">\n",
       "      <th></th>\n",
       "      <th>question</th>\n",
       "      <th>answer</th>\n",
       "      <th>source</th>\n",
       "      <th>focus_area</th>\n",
       "    </tr>\n",
       "  </thead>\n",
       "  <tbody>\n",
       "    <tr>\n",
       "      <th>0</th>\n",
       "      <td>What is (are) Glaucoma ?</td>\n",
       "      <td>Glaucoma is a group of diseases that can damag...</td>\n",
       "      <td>NIHSeniorHealth</td>\n",
       "      <td>Glaucoma</td>\n",
       "    </tr>\n",
       "    <tr>\n",
       "      <th>1</th>\n",
       "      <td>What causes Glaucoma ?</td>\n",
       "      <td>Nearly 2.7 million people have glaucoma, a lea...</td>\n",
       "      <td>NIHSeniorHealth</td>\n",
       "      <td>Glaucoma</td>\n",
       "    </tr>\n",
       "    <tr>\n",
       "      <th>2</th>\n",
       "      <td>What are the symptoms of Glaucoma ?</td>\n",
       "      <td>Symptoms of Glaucoma  Glaucoma can develop in ...</td>\n",
       "      <td>NIHSeniorHealth</td>\n",
       "      <td>Glaucoma</td>\n",
       "    </tr>\n",
       "    <tr>\n",
       "      <th>3</th>\n",
       "      <td>What are the treatments for Glaucoma ?</td>\n",
       "      <td>Although open-angle glaucoma cannot be cured, ...</td>\n",
       "      <td>NIHSeniorHealth</td>\n",
       "      <td>Glaucoma</td>\n",
       "    </tr>\n",
       "    <tr>\n",
       "      <th>4</th>\n",
       "      <td>What is (are) Glaucoma ?</td>\n",
       "      <td>Glaucoma is a group of diseases that can damag...</td>\n",
       "      <td>NIHSeniorHealth</td>\n",
       "      <td>Glaucoma</td>\n",
       "    </tr>\n",
       "  </tbody>\n",
       "</table>\n",
       "</div>"
      ],
      "text/plain": [
       "                                 question  \\\n",
       "0                What is (are) Glaucoma ?   \n",
       "1                  What causes Glaucoma ?   \n",
       "2     What are the symptoms of Glaucoma ?   \n",
       "3  What are the treatments for Glaucoma ?   \n",
       "4                What is (are) Glaucoma ?   \n",
       "\n",
       "                                              answer           source  \\\n",
       "0  Glaucoma is a group of diseases that can damag...  NIHSeniorHealth   \n",
       "1  Nearly 2.7 million people have glaucoma, a lea...  NIHSeniorHealth   \n",
       "2  Symptoms of Glaucoma  Glaucoma can develop in ...  NIHSeniorHealth   \n",
       "3  Although open-angle glaucoma cannot be cured, ...  NIHSeniorHealth   \n",
       "4  Glaucoma is a group of diseases that can damag...  NIHSeniorHealth   \n",
       "\n",
       "  focus_area  \n",
       "0   Glaucoma  \n",
       "1   Glaucoma  \n",
       "2   Glaucoma  \n",
       "3   Glaucoma  \n",
       "4   Glaucoma  "
      ]
     },
     "execution_count": 3,
     "metadata": {},
     "output_type": "execute_result"
    }
   ],
   "source": [
    "medquadDf = pd.read_csv(\"./data/medquad.csv\")\n",
    "medquadDf.head()"
   ]
  },
  {
   "cell_type": "code",
   "execution_count": 4,
   "id": "6588aab3-013b-498f-a345-1a515c6607bf",
   "metadata": {},
   "outputs": [
    {
     "name": "stdout",
     "output_type": "stream",
     "text": [
      "<class 'pandas.core.frame.DataFrame'>\n",
      "RangeIndex: 16412 entries, 0 to 16411\n",
      "Data columns (total 4 columns):\n",
      " #   Column      Non-Null Count  Dtype \n",
      "---  ------      --------------  ----- \n",
      " 0   question    16412 non-null  object\n",
      " 1   answer      16407 non-null  object\n",
      " 2   source      16412 non-null  object\n",
      " 3   focus_area  16398 non-null  object\n",
      "dtypes: object(4)\n",
      "memory usage: 513.0+ KB\n"
     ]
    }
   ],
   "source": [
    "medquadDf.info()"
   ]
  },
  {
   "cell_type": "code",
   "execution_count": 5,
   "id": "bd4d49f0-32a4-4586-9abc-350a6791109e",
   "metadata": {},
   "outputs": [
    {
     "data": {
      "text/plain": [
       "question       0\n",
       "answer         5\n",
       "source         0\n",
       "focus_area    14\n",
       "dtype: int64"
      ]
     },
     "execution_count": 5,
     "metadata": {},
     "output_type": "execute_result"
    }
   ],
   "source": [
    "medquadDf.isna().sum()"
   ]
  },
  {
   "cell_type": "markdown",
   "id": "5ff74de8-89f2-4d10-9246-9f86ac1983c4",
   "metadata": {},
   "source": [
    "Drop and change null data"
   ]
  },
  {
   "cell_type": "code",
   "execution_count": 8,
   "id": "420c6fd1-62f1-4c28-b20d-1deec185e9eb",
   "metadata": {},
   "outputs": [],
   "source": [
    "medquadDf = medquadDf.dropna(subset=[\"answer\"])\n",
    "medquadDf[\"focus_area\"] = medquadDf[\"focus_area\"].fillna(\"\")"
   ]
  },
  {
   "cell_type": "code",
   "execution_count": 9,
   "id": "4638f382-e3b8-4c3a-b21a-3ff955c93cfd",
   "metadata": {},
   "outputs": [
    {
     "data": {
      "text/plain": [
       "question      0\n",
       "answer        0\n",
       "source        0\n",
       "focus_area    0\n",
       "dtype: int64"
      ]
     },
     "execution_count": 9,
     "metadata": {},
     "output_type": "execute_result"
    }
   ],
   "source": [
    "medquadDf.isna().sum()"
   ]
  },
  {
   "cell_type": "code",
   "execution_count": 10,
   "id": "dfa5b5c9-3934-4a2c-8dbd-3ef300186da4",
   "metadata": {},
   "outputs": [
    {
     "name": "stdout",
     "output_type": "stream",
     "text": [
      "<class 'pandas.core.frame.DataFrame'>\n",
      "Index: 16407 entries, 0 to 16411\n",
      "Data columns (total 4 columns):\n",
      " #   Column      Non-Null Count  Dtype \n",
      "---  ------      --------------  ----- \n",
      " 0   question    16407 non-null  object\n",
      " 1   answer      16407 non-null  object\n",
      " 2   source      16407 non-null  object\n",
      " 3   focus_area  16407 non-null  object\n",
      "dtypes: object(4)\n",
      "memory usage: 640.9+ KB\n"
     ]
    }
   ],
   "source": [
    "medquadDf.info()"
   ]
  },
  {
   "cell_type": "markdown",
   "id": "119c11ed-baa3-4c96-ace1-6ddcf9ca7a18",
   "metadata": {},
   "source": [
    "Save to csv"
   ]
  },
  {
   "cell_type": "code",
   "execution_count": 11,
   "id": "95c78c30-754c-48bb-a49c-20251e5b7ba7",
   "metadata": {},
   "outputs": [],
   "source": [
    "medquadDf.to_csv(\"./data/medquadDf.csv\", index=False)"
   ]
  },
  {
   "cell_type": "markdown",
   "id": "7f5eb930-87d8-4159-90e8-81fd3e45d8b9",
   "metadata": {},
   "source": [
    "Create and save to json"
   ]
  },
  {
   "cell_type": "code",
   "execution_count": 12,
   "id": "94d6529f-29c9-43a6-bd15-c531565d3222",
   "metadata": {},
   "outputs": [],
   "source": [
    "chatbotData = []"
   ]
  },
  {
   "cell_type": "code",
   "execution_count": 13,
   "id": "f6134135-2ba2-4a32-98ff-969f3d25aae9",
   "metadata": {},
   "outputs": [],
   "source": [
    "groupData = medquadDf.groupby(\"focus_area\")\n",
    "\n",
    "for focus_area, group in groupData:\n",
    "    data = {\n",
    "        \"focus_area\": focus_area,\n",
    "        \"question\": group[\"question\"].tolist(),\n",
    "        \"answer\": group[\"answer\"].tolist()\n",
    "    }\n",
    "    chatbotData.append(data)\n",
    "\n",
    "medquadJson = {\"intents\": chatbotData}"
   ]
  },
  {
   "cell_type": "code",
   "execution_count": 14,
   "id": "ec3cf5f4-d9b2-43c1-a193-65163642a802",
   "metadata": {},
   "outputs": [],
   "source": [
    "with open(\"./data/medquadDf.json\", \"w\") as json_file:\n",
    "    json.dump(medquadJson, json_file, indent=4)"
   ]
  },
  {
   "cell_type": "markdown",
   "id": "269debf8-6e29-4075-a3de-e5b8461320a0",
   "metadata": {},
   "source": [
    "Processing conversations data"
   ]
  },
  {
   "cell_type": "code",
   "execution_count": 16,
   "id": "a24a796d-1b57-43fe-a347-02f27d11ae9d",
   "metadata": {},
   "outputs": [],
   "source": [
    "url1 = \"https://raw.githubusercontent.com/gunthercox/chatterbot-corpus/master/chatterbot_corpus/data/english/conversations.yml\"\n",
    "response1 = requests.get(url1)\n",
    "\n",
    "if response1.status_code == 200:\n",
    "    dataConver = yaml.safe_load(response1.text)\n",
    "else:\n",
    "    print(f\"Error: {response1.status_code}\")"
   ]
  },
  {
   "cell_type": "code",
   "execution_count": 17,
   "id": "31d329c9-99bd-445b-9075-0b674eeb4b27",
   "metadata": {},
   "outputs": [],
   "source": [
    "url2 = \"https://raw.githubusercontent.com/gunthercox/chatterbot-corpus/master/chatterbot_corpus/data/english/greetings.yml\"\n",
    "response2 = requests.get(url2)\n",
    "\n",
    "if response2.status_code == 200:\n",
    "    dataGreet = yaml.safe_load(response2.text)\n",
    "else:\n",
    "    print(f\"Error: {response2.status_code}\")"
   ]
  },
  {
   "cell_type": "markdown",
   "id": "709f181f-1b6c-4d2f-9c8a-51b80abb7d9b",
   "metadata": {},
   "source": [
    "Save conversations data to Json"
   ]
  },
  {
   "cell_type": "code",
   "execution_count": 27,
   "id": "685fbaaf-6f98-49c4-97cc-bad6d08b2662",
   "metadata": {},
   "outputs": [],
   "source": [
    "conversationsData = {\n",
    "    \"conversations\": dataConver[\"conversations\"] + dataGreet[\"conversations\"]\n",
    "}"
   ]
  },
  {
   "cell_type": "code",
   "execution_count": 28,
   "id": "f7b7435a-c1e3-4494-be9d-85d4e64dc9cd",
   "metadata": {},
   "outputs": [],
   "source": [
    "with open(\"./data/conversations.json\", \"w\") as json_file:\n",
    "    json.dump(conversationsData, json_file, indent=4)\n"
   ]
  },
  {
   "cell_type": "markdown",
   "id": "e76b6a87-4d7b-4f91-8f6c-773872b1c255",
   "metadata": {},
   "source": [
    "Save conversations data to csv"
   ]
  },
  {
   "cell_type": "code",
   "execution_count": 29,
   "id": "d5eaebf5-b961-461e-8aef-bd8664b426ac",
   "metadata": {},
   "outputs": [],
   "source": [
    "conversationsList = []"
   ]
  },
  {
   "cell_type": "code",
   "execution_count": 30,
   "id": "83332062-5231-4ec2-b6ce-6ac9115f560a",
   "metadata": {},
   "outputs": [],
   "source": [
    "for conversation in dataConver[\"conversations\"]:\n",
    "    for i in range(len(conversation) - 1):\n",
    "        inputUser = conversation[i]\n",
    "        respon = conversation[i + 1]\n",
    "        conversationsList.append([inputUser, respon])"
   ]
  },
  {
   "cell_type": "code",
   "execution_count": 31,
   "id": "4ed91e9c-f295-4c6a-802d-30c7a6168f36",
   "metadata": {},
   "outputs": [],
   "source": [
    "for conversation in dataGreet[\"conversations\"]:\n",
    "    for i in range(len(conversation) - 1):\n",
    "        inputUser = conversation[i]\n",
    "        respon = conversation[i + 1]\n",
    "        conversationsList.append([inputUser, respon])"
   ]
  },
  {
   "cell_type": "code",
   "execution_count": 34,
   "id": "0361c07e-5d1f-4896-b50e-2c7cde4a8c82",
   "metadata": {},
   "outputs": [
    {
     "data": {
      "text/html": [
       "<div>\n",
       "<style scoped>\n",
       "    .dataframe tbody tr th:only-of-type {\n",
       "        vertical-align: middle;\n",
       "    }\n",
       "\n",
       "    .dataframe tbody tr th {\n",
       "        vertical-align: top;\n",
       "    }\n",
       "\n",
       "    .dataframe thead th {\n",
       "        text-align: right;\n",
       "    }\n",
       "</style>\n",
       "<table border=\"1\" class=\"dataframe\">\n",
       "  <thead>\n",
       "    <tr style=\"text-align: right;\">\n",
       "      <th></th>\n",
       "      <th>inputUser</th>\n",
       "      <th>respon</th>\n",
       "    </tr>\n",
       "  </thead>\n",
       "  <tbody>\n",
       "    <tr>\n",
       "      <th>0</th>\n",
       "      <td>Good morning, how are you?</td>\n",
       "      <td>I am doing well, how about you?</td>\n",
       "    </tr>\n",
       "    <tr>\n",
       "      <th>1</th>\n",
       "      <td>I am doing well, how about you?</td>\n",
       "      <td>I'm also good.</td>\n",
       "    </tr>\n",
       "    <tr>\n",
       "      <th>2</th>\n",
       "      <td>I'm also good.</td>\n",
       "      <td>That's good to hear.</td>\n",
       "    </tr>\n",
       "    <tr>\n",
       "      <th>3</th>\n",
       "      <td>That's good to hear.</td>\n",
       "      <td>Yes it is.</td>\n",
       "    </tr>\n",
       "    <tr>\n",
       "      <th>4</th>\n",
       "      <td>Hello</td>\n",
       "      <td>Hi</td>\n",
       "    </tr>\n",
       "  </tbody>\n",
       "</table>\n",
       "</div>"
      ],
      "text/plain": [
       "                         inputUser                           respon\n",
       "0       Good morning, how are you?  I am doing well, how about you?\n",
       "1  I am doing well, how about you?                   I'm also good.\n",
       "2                   I'm also good.             That's good to hear.\n",
       "3             That's good to hear.                       Yes it is.\n",
       "4                            Hello                               Hi"
      ]
     },
     "execution_count": 34,
     "metadata": {},
     "output_type": "execute_result"
    }
   ],
   "source": [
    "conversationsDf = pd.DataFrame(conversationsList, columns=[\"inputUser\", \"respon\"])\n",
    "conversationsDf.head()"
   ]
  },
  {
   "cell_type": "code",
   "execution_count": 35,
   "id": "aaf42cbe-60a2-46b7-8371-6d27b55939b3",
   "metadata": {},
   "outputs": [],
   "source": [
    "conversationsDf.to_csv(\"./data/conversations.csv\", index=False)"
   ]
  },
  {
   "cell_type": "code",
   "execution_count": null,
   "id": "4df2c615-4cc5-46a3-b126-e32d20a2be3d",
   "metadata": {},
   "outputs": [],
   "source": []
  }
 ],
 "metadata": {
  "kernelspec": {
   "display_name": "Python 3 (ipykernel)",
   "language": "python",
   "name": "python3"
  },
  "language_info": {
   "codemirror_mode": {
    "name": "ipython",
    "version": 3
   },
   "file_extension": ".py",
   "mimetype": "text/x-python",
   "name": "python",
   "nbconvert_exporter": "python",
   "pygments_lexer": "ipython3",
   "version": "3.12.7"
  }
 },
 "nbformat": 4,
 "nbformat_minor": 5
}
